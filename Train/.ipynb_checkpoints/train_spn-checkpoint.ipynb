{
 "cells": [
  {
   "cell_type": "markdown",
   "id": "ec739828-22b6-4dbc-89e1-35a4b60cc9e5",
   "metadata": {},
   "source": [
    "## 引入模块"
   ]
  },
  {
   "cell_type": "code",
   "execution_count": 24,
   "id": "c2207542-8141-49a7-b377-e28877903fd7",
   "metadata": {},
   "outputs": [],
   "source": [
    "import matplotlib.pyplot as plt\n",
    "from tqdm import tqdm\n",
    "import numpy as np\n",
    "import sys\n",
    "import os\n",
    "import time\n",
    "import pickle "
   ]
  },
  {
   "cell_type": "code",
   "execution_count": 2,
   "id": "6cd8af76-79c9-4a12-87f3-155f3afb6881",
   "metadata": {},
   "outputs": [],
   "source": [
    "from sklearn.mixture import GaussianMixture as GMM\n",
    "from sklearn import preprocessing\n",
    "from hmmlearn import hmm"
   ]
  },
  {
   "cell_type": "code",
   "execution_count": 3,
   "id": "1df1e953-e66a-4ff7-86e9-02607098d659",
   "metadata": {},
   "outputs": [],
   "source": [
    "from sklearn.metrics import accuracy_score\n",
    "from sklearn.metrics import precision_score\n",
    "from sklearn.metrics import recall_score\n",
    "from sklearn.metrics import f1_score"
   ]
  },
  {
   "cell_type": "code",
   "execution_count": 4,
   "id": "75a1bb6e-238a-4f40-b0e1-fea7743bd950",
   "metadata": {},
   "outputs": [],
   "source": [
    "from spn.algorithms.LearningWrappers import learn_parametric, learn_classifier\n",
    "from spn.structure.leaves.cltree.CLTree import create_cltree_leaf\n",
    "from spn.algorithms.Inference import log_likelihood\n",
    "from spn.structure.leaves.parametric.Parametric import Categorical, Gaussian, Geometric\n",
    "from spn.structure.StatisticalTypes import MetaType\n",
    "from spn.structure.Base import Context\n",
    "from spn.algorithms.MPE import mpe\n",
    "from spn.algorithms.LearningWrappers import learn_mspn\n",
    "from spn.structure.StatisticalTypes import MetaType"
   ]
  },
  {
   "cell_type": "code",
   "execution_count": 5,
   "id": "f782be90-b47d-4cad-8531-c735c68307db",
   "metadata": {},
   "outputs": [],
   "source": [
    "from spn.io.Text import spn_to_str_ref_graph\n",
    "from spn.io.Text import spn_to_str_equation\n",
    "from spn.io.Text import str_to_spn\n",
    "\n",
    "from spn.io.Graphics import plot_spn"
   ]
  },
  {
   "cell_type": "code",
   "execution_count": 6,
   "id": "8fc90df8-e0e1-49f2-aaea-c8bae62fe759",
   "metadata": {},
   "outputs": [],
   "source": [
    "# 多进程\n",
    "# import multiprocessing\n",
    "from pathos.pools import ProcessPool, ThreadPool"
   ]
  },
  {
   "cell_type": "code",
   "execution_count": 7,
   "id": "e639fc61-e9b8-4b84-9c5f-6a3190cccafb",
   "metadata": {},
   "outputs": [],
   "source": [
    "# 去除warning\n",
    "import warnings\n",
    "warnings.filterwarnings(\"ignore\")"
   ]
  },
  {
   "cell_type": "markdown",
   "id": "35a64083-5c55-4214-b175-7569ab4ec0a7",
   "metadata": {},
   "source": [
    "## 一些参数"
   ]
  },
  {
   "cell_type": "code",
   "execution_count": 8,
   "id": "4cd851ba-da05-4980-84ab-bebb220cc3bb",
   "metadata": {},
   "outputs": [],
   "source": [
    "labels =        [ 'down',   'go',   'left',     'no',   'off',  'on',   'right',    'stop',     'up',   'yes']\n",
    "labels_num =    [   0,      1,      2,          3,      4,      5,      6,          7,          8,      9 ]"
   ]
  },
  {
   "cell_type": "markdown",
   "id": "357b5f64-07fb-47fd-92f2-d3d702707903",
   "metadata": {},
   "source": [
    "## 加载数据"
   ]
  },
  {
   "cell_type": "code",
   "execution_count": 9,
   "id": "40890747-de6d-458d-aaf7-443f4059d2ed",
   "metadata": {},
   "outputs": [],
   "source": [
    "# Specially for the Data_processed_7\n",
    "def deal_train_data_set(data_set):\n",
    "\n",
    "    parts = data_set.shape[1]\n",
    "    numbers = data_set.shape[0]\n",
    "\n",
    "    container = []\n",
    "    for i in range(parts):\n",
    "        container.append(np.array([]))\n",
    "        \n",
    "    for index_num in range(numbers):\n",
    "        for index_part in range(parts):\n",
    "            the_data = data_set[index_num][index_part]\n",
    "            if the_data.shape[0] != 0:\n",
    "                if container[index_part].shape[0] == 0:\n",
    "                    container[index_part] = the_data\n",
    "                else:\n",
    "                    try:\n",
    "                        container[index_part] = np.vstack((container[index_part], the_data))\n",
    "                    except:\n",
    "                        print(\"{}\\t{}\\t{}\\t{}\".format(index_num,index_part,container[index_part].shape, the_data.shape))\n",
    "        \n",
    "    container = np.array(container,dtype=object)\n",
    "        \n",
    "    return container"
   ]
  },
  {
   "cell_type": "code",
   "execution_count": 31,
   "id": "dc62f06f-924e-4bf0-81bf-71fa711f08a2",
   "metadata": {},
   "outputs": [],
   "source": [
    "data_toy_dir = '../Dataset/Data_dtw_processed/'\n",
    "train_file =  data_toy_dir + \"/\"  + 'train_toy.npy'\n",
    "test_file = data_toy_dir + \"/\"  + 'test_toy.npy'"
   ]
  },
  {
   "cell_type": "code",
   "execution_count": 32,
   "id": "3901722d-b0e7-490c-8858-f49f3d71885f",
   "metadata": {},
   "outputs": [],
   "source": [
    "train_set = np.load(train_file, allow_pickle=True)\n",
    "test_set = np.load(test_file, allow_pickle=True)"
   ]
  },
  {
   "cell_type": "code",
   "execution_count": 33,
   "id": "69b36030-03c0-4705-9e8d-5de81f870da5",
   "metadata": {},
   "outputs": [
    {
     "name": "stdout",
     "output_type": "stream",
     "text": [
      "(10,)\n",
      "(1061, 2)\n",
      "(2,)\n",
      "(2,)\n",
      "(2,)\n"
     ]
    }
   ],
   "source": [
    "print(train_set.shape)\n",
    "print(train_set[0].shape)\n",
    "print(train_set[0][0].shape)\n",
    "print(train_set[0][1].shape)\n",
    "print(train_set[0][2].shape)\n",
    "# print(train_set[0][0][0])"
   ]
  },
  {
   "cell_type": "code",
   "execution_count": 34,
   "id": "4a59cbd3-57b4-4f72-a295-a2c91aefbd27",
   "metadata": {
    "tags": []
   },
   "outputs": [],
   "source": [
    "train_features = [deal_train_data_set(i) for i in train_set]"
   ]
  },
  {
   "cell_type": "code",
   "execution_count": 35,
   "id": "66c6a0de-c116-471b-91a3-3f1c1bf278eb",
   "metadata": {},
   "outputs": [
    {
     "name": "stdout",
     "output_type": "stream",
     "text": [
      "(2,)\n",
      "(19745, 13)\n",
      "(6773, 13)\n"
     ]
    }
   ],
   "source": [
    "# print(train_features.shape)\n",
    "print(train_features[0].shape)\n",
    "print(train_features[0][0].shape)\n",
    "print(train_features[0][1].shape)\n",
    "# print(train_features[0][2].shape)\n",
    "# print(train_features[0][2][0].shape)\n",
    "# print(train_features[0][2][0][0].shape)"
   ]
  },
  {
   "cell_type": "code",
   "execution_count": 36,
   "id": "fd91f304-2839-4b03-bdf0-4d7be1214a46",
   "metadata": {},
   "outputs": [],
   "source": [
    "test_features = test_set"
   ]
  },
  {
   "cell_type": "code",
   "execution_count": 37,
   "id": "cebb1430-db82-4320-9247-d3efdd73dfcc",
   "metadata": {},
   "outputs": [
    {
     "name": "stdout",
     "output_type": "stream",
     "text": [
      "[0, 0, 0, 0, 0, 0, 0, 0, 0, 0]\n"
     ]
    }
   ],
   "source": [
    "y_test = []\n",
    "for index,features in enumerate(test_features):\n",
    "    y_test = y_test + [ index ]*len(features)\n",
    "print(y_test[:10])"
   ]
  },
  {
   "cell_type": "markdown",
   "id": "566d632f-ba97-4c2f-9838-13723881b906",
   "metadata": {},
   "source": [
    "## 训练gmm模型"
   ]
  },
  {
   "cell_type": "code",
   "execution_count": 15,
   "id": "f80c3217-4674-46a4-85fd-184b06c5a620",
   "metadata": {},
   "outputs": [],
   "source": [
    "def gmm_predict(models, features):\n",
    "    scores = []\n",
    "    for model in models:\n",
    "        term = 0\n",
    "        for index, submodel in enumerate(model):\n",
    "            the_feature = features[index]\n",
    "            if the_feature.shape[0] != 0:\n",
    "                if the_feature.size == 13:\n",
    "                    the_feature = the_feature.reshape((1,-1))\n",
    "                temp = submodel.score(the_feature)\n",
    "                term = term + temp\n",
    "        scores.append(term)\n",
    "    \n",
    "    index = scores.index(max(scores))\n",
    "    return index"
   ]
  },
  {
   "cell_type": "code",
   "execution_count": 14,
   "id": "96a5717b-691c-4545-9fe4-1ad16cce8404",
   "metadata": {},
   "outputs": [],
   "source": [
    "models = []\n",
    "for index, features in enumerate(train_features):\n",
    "    tmp = []\n",
    "    for feat in features:\n",
    "        gmm = GMM(n_components = 4, max_iter = 200, covariance_type='diag',n_init = 3)\n",
    "        gmm = gmm.fit(feat)\n",
    "        tmp.append(gmm)\n",
    "    models.append(tmp)"
   ]
  },
  {
   "cell_type": "code",
   "execution_count": 16,
   "id": "5405668a-2dc2-40d3-995e-45279bab6c9b",
   "metadata": {
    "tags": []
   },
   "outputs": [],
   "source": [
    "y_pred = []\n",
    "for i in test_features:\n",
    "    for j in i:\n",
    "        temp = gmm_predict(models, j)\n",
    "        y_pred.append( temp )"
   ]
  },
  {
   "cell_type": "markdown",
   "id": "0f719b36-479c-4f85-a157-c09a57badd50",
   "metadata": {},
   "source": [
    "## 训练spn模型"
   ]
  },
  {
   "cell_type": "markdown",
   "id": "528edf36-bac1-4dae-ba7e-2bce6897e15a",
   "metadata": {},
   "source": [
    "### 一些函数"
   ]
  },
  {
   "cell_type": "code",
   "execution_count": 40,
   "id": "67a585c2-8885-46d1-8fba-82b8f824b7e9",
   "metadata": {},
   "outputs": [],
   "source": [
    "def spn_predict(models, features):\n",
    "    scores = []\n",
    "    for model in models:\n",
    "        term = 0\n",
    "        for index, submodel in enumerate(model):\n",
    "            the_feature = features[index]\n",
    "            if the_feature.shape[0] != 0:\n",
    "                if the_feature.size == 13:\n",
    "                    the_feature = the_feature.reshape((1,-1))\n",
    "                ll = log_likelihood(submodel, the_feature)\n",
    "                # temp = np.sum(np.exp(ll))\n",
    "                temp = np.mean(ll)\n",
    "                term = term + temp\n",
    "        scores.append(term)\n",
    "    \n",
    "    index = scores.index(max(scores))\n",
    "    return index"
   ]
  },
  {
   "cell_type": "code",
   "execution_count": 41,
   "id": "28d554cb-5932-49de-b778-8ef5144a8f7c",
   "metadata": {},
   "outputs": [],
   "source": [
    "def parallel_spn_predict(args):\n",
    "    models = args[0]\n",
    "    features = args[1]\n",
    "    index = spn_predict(models, features)\n",
    "    return index"
   ]
  },
  {
   "cell_type": "markdown",
   "id": "15f6a9db-7c6c-43e9-bda2-f8d8884ea4d8",
   "metadata": {},
   "source": [
    "### spn训练"
   ]
  },
  {
   "cell_type": "code",
   "execution_count": 38,
   "id": "a730b14d-01fe-4cd6-8a9f-cba0552a13e9",
   "metadata": {
    "tags": []
   },
   "outputs": [
    {
     "name": "stdout",
     "output_type": "stream",
     "text": [
      "Train 0 round start.\n",
      "Train 0 round end.\n",
      "Time cost:30.23802924156189\n",
      "Train 1 round start.\n",
      "Train 1 round end.\n",
      "Time cost:21.11500096321106\n",
      "Train 2 round start.\n",
      "Train 2 round end.\n",
      "Time cost:21.74878239631653\n",
      "Train 3 round start.\n",
      "Train 3 round end.\n",
      "Time cost:24.767982482910156\n",
      "Train 4 round start.\n",
      "Train 4 round end.\n",
      "Time cost:22.28583025932312\n",
      "Train 5 round start.\n",
      "Train 5 round end.\n",
      "Time cost:23.50517749786377\n",
      "Train 6 round start.\n",
      "Train 6 round end.\n",
      "Time cost:24.140528678894043\n",
      "Train 7 round start.\n",
      "Train 7 round end.\n",
      "Time cost:26.303345918655396\n",
      "Train 8 round start.\n",
      "Train 8 round end.\n",
      "Time cost:18.647460460662842\n",
      "Train 9 round start.\n",
      "Train 9 round end.\n",
      "Time cost:28.031331300735474\n"
     ]
    }
   ],
   "source": [
    "models = []\n",
    "\n",
    "context_list = [ Categorical ]*13\n",
    "\n",
    "for index, features in enumerate(train_features):\n",
    "    time_start = time.time()\n",
    "    print('Train {} round start.'.format(index))\n",
    "    \n",
    "    tmp = []\n",
    "    for feat in features:\n",
    "        \n",
    "        ds_context = Context(parametric_types=context_list)\n",
    "        ds_context.add_domains(feat)\n",
    "        # min_instances_slice=20,\n",
    "        spn = learn_parametric( feat, ds_context, cols=\"rdc\", rows = \"gmm\", cpus=-1)\n",
    "        tmp.append(spn)\n",
    "        \n",
    "    models.append(tmp)\n",
    "\n",
    "    time_end = time.time()\n",
    "    print('Train {} round end.'.format(index))\n",
    "    print('Time cost:{}'.format(time_end-time_start))"
   ]
  },
  {
   "cell_type": "markdown",
   "id": "35f1658e-3516-4ef0-b166-0da6eeaddfc4",
   "metadata": {},
   "source": [
    "### spn预测"
   ]
  },
  {
   "cell_type": "code",
   "execution_count": 28,
   "id": "b0287a8f-96a3-4ff7-a87e-590990370686",
   "metadata": {},
   "outputs": [
    {
     "name": "stderr",
     "output_type": "stream",
     "text": [
      "100%|██████████| 455/455 [06:12<00:00,  1.22it/s]\n",
      "100%|██████████| 449/449 [06:07<00:00,  1.22it/s]\n",
      "100%|██████████| 440/440 [06:02<00:00,  1.21it/s]\n",
      "100%|██████████| 457/457 [06:12<00:00,  1.23it/s]\n",
      "100%|██████████| 431/431 [05:56<00:00,  1.21it/s]\n",
      "100%|██████████| 445/445 [06:04<00:00,  1.22it/s]\n",
      "100%|██████████| 437/437 [05:57<00:00,  1.22it/s]\n",
      "100%|██████████| 448/448 [06:07<00:00,  1.22it/s]\n",
      "100%|██████████| 429/429 [05:24<00:00,  1.32it/s]\n",
      "100%|██████████| 469/469 [06:22<00:00,  1.23it/s]"
     ]
    },
    {
     "name": "stdout",
     "output_type": "stream",
     "text": [
      "CPU times: user 1h 25s, sys: 1min 10s, total: 1h 1min 35s\n",
      "Wall time: 1h 25s\n"
     ]
    },
    {
     "name": "stderr",
     "output_type": "stream",
     "text": [
      "\n"
     ]
    }
   ],
   "source": [
    "%%time\n",
    "# 串行\n",
    "y_pred = []\n",
    "for i in test_features:\n",
    "    for j in tqdm(i):\n",
    "        temp = spn_predict(models, j)\n",
    "        y_pred.append( temp )"
   ]
  },
  {
   "cell_type": "code",
   "execution_count": 46,
   "id": "e67b2b54-3f7e-4e73-a5de-fbb346bc3723",
   "metadata": {
    "tags": []
   },
   "outputs": [
    {
     "name": "stderr",
     "output_type": "stream",
     "text": [
      "100%|██████████| 455/455 [01:47<00:00,  4.23it/s]\n",
      "100%|██████████| 449/449 [01:45<00:00,  4.24it/s]\n",
      "100%|██████████| 440/440 [01:44<00:00,  4.21it/s]\n",
      "100%|██████████| 457/457 [01:48<00:00,  4.22it/s]\n",
      "100%|██████████| 431/431 [01:41<00:00,  4.24it/s]\n",
      "100%|██████████| 445/445 [01:45<00:00,  4.22it/s]\n",
      "100%|██████████| 437/437 [01:43<00:00,  4.24it/s]\n",
      "100%|██████████| 448/448 [01:45<00:00,  4.23it/s]\n",
      "100%|██████████| 429/429 [01:42<00:00,  4.18it/s]\n",
      "100%|██████████| 469/469 [01:50<00:00,  4.23it/s]\n"
     ]
    },
    {
     "name": "stdout",
     "output_type": "stream",
     "text": [
      "CPU times: user 17min 30s, sys: 17.2 s, total: 17min 47s\n",
      "Wall time: 17min 45s\n"
     ]
    }
   ],
   "source": [
    "%%time\n",
    "\n",
    "# 并行\n",
    "# 貌似对于3-part更慢???\n",
    "pool = ProcessPool(32)\n",
    "\n",
    "y_pred = []\n",
    "for i in test_features:\n",
    "    \n",
    "    args = [[models,j] for j in i]\n",
    "    with pool as workers:\n",
    "        temp = list(tqdm(workers.imap(parallel_spn_predict,args),total=len(args)))\n",
    "    workers.close()\n",
    "    workers.join()\n",
    "    workers.restart()\n",
    "    \n",
    "    y_pred = y_pred + temp\n",
    "pool.clear()"
   ]
  },
  {
   "cell_type": "markdown",
   "id": "ca2828c9-1f86-4de4-b928-90c9a2da9e4c",
   "metadata": {},
   "source": [
    "### 保存spn模型"
   ]
  },
  {
   "cell_type": "code",
   "execution_count": 42,
   "id": "b5253262-0b8f-4757-8df6-aff468a25bfc",
   "metadata": {},
   "outputs": [],
   "source": [
    "def check_dir(path_dir):\n",
    "    if not os.path.exists(path_dir):\n",
    "        os.makedirs(path_dir)"
   ]
  },
  {
   "cell_type": "code",
   "execution_count": 43,
   "id": "a0f0df39-5218-46dc-b5e9-04d39b0be019",
   "metadata": {},
   "outputs": [],
   "source": [
    "def save_model(filename, model_txt):\n",
    "    with open(filename,'w+') as f:\n",
    "        f.write(model_txt)"
   ]
  },
  {
   "cell_type": "code",
   "execution_count": 44,
   "id": "17e3df8c-61e7-4e9f-be5a-529806fa7140",
   "metadata": {},
   "outputs": [],
   "source": [
    "save_dir = \"../Models/spn_01/\"\n",
    "check_dir(save_dir)"
   ]
  },
  {
   "cell_type": "code",
   "execution_count": 45,
   "id": "c1c28eb8-3ec0-49d0-b2e3-fc051f16e1c6",
   "metadata": {},
   "outputs": [],
   "source": [
    "# 保存可读取版本\n",
    "for index,the_model in enumerate(models):\n",
    "    the_path = save_dir + 'model{}/'.format(index)\n",
    "    check_dir(the_path)\n",
    "    for sub_index, sub_model in enumerate(the_model):\n",
    "        filename = the_path + 'submodel{}.txt'.format(sub_index)\n",
    "        txt = spn_to_str_equation(sub_model)\n",
    "        save_model(filename, txt)"
   ]
  },
  {
   "cell_type": "raw",
   "id": "b77f5b17-456d-4b78-8ea7-cf35cd8975ff",
   "metadata": {},
   "source": [
    "#!!! Do not need to save the orther version\n",
    "# 保存导出版本\n",
    "for index,the_model in enumerate(models):\n",
    "    the_path = save_dir + 'model{}/'.format(index)\n",
    "    check_dir(the_path)\n",
    "    for sub_index, sub_model in enumerate(the_model):\n",
    "        filename = the_path + 'submodel{}.txt'.format(sub_index)\n",
    "        txt = spn_to_str_ref_graph(sub_model)\n",
    "        save_model(filename, txt)"
   ]
  },
  {
   "cell_type": "markdown",
   "id": "ff9a9d30-fab6-47bf-86f8-77e8d43dad0b",
   "metadata": {},
   "source": [
    "### 读取spn模型"
   ]
  },
  {
   "cell_type": "code",
   "execution_count": 51,
   "id": "3890f1b8-a634-4b49-bae8-2aa82b55c4f2",
   "metadata": {},
   "outputs": [],
   "source": [
    "# 获取当前目录下所有的文件夹名字\n",
    "def get_foldername(filename):\n",
    "    for root, dirs, files in os.walk(filename):\n",
    "        array = dirs\n",
    "        if array:\n",
    "            return array\n",
    "# 获取当前目录下所有的文件名字\n",
    "def get_filename(filename):\n",
    "    for root, dirs, files in os.walk(filename):\n",
    "        array = files\n",
    "        if array:\n",
    "            return array"
   ]
  },
  {
   "cell_type": "code",
   "execution_count": 52,
   "id": "6645b2df-3eaa-44b1-8603-f668673d3949",
   "metadata": {},
   "outputs": [],
   "source": [
    "def read_model(filename):\n",
    "    f = open(filename,\"r\")   #设置文件对象\n",
    "    txt = f.read()     #将txt文件的所有内容读入到字符串str中\n",
    "    f.close()   #将文件关闭\n",
    "    \n",
    "    spn = str_to_spn(txt)\n",
    "    return spn"
   ]
  },
  {
   "cell_type": "code",
   "execution_count": 53,
   "id": "d9c7469d-b3ff-4ae3-b3e5-c00f83e2b478",
   "metadata": {},
   "outputs": [],
   "source": [
    "save_dir = \"../Models/spn_01/\""
   ]
  },
  {
   "cell_type": "code",
   "execution_count": 54,
   "id": "a5f8a217-b37c-4b0b-833e-39fa63dedcfe",
   "metadata": {},
   "outputs": [],
   "source": [
    "folders = get_foldername(save_dir)\n",
    "folders.sort(key=lambda x:int(x[5:]))"
   ]
  },
  {
   "cell_type": "code",
   "execution_count": 55,
   "id": "d14aa24b-a462-4272-aa05-3c45925c67ab",
   "metadata": {},
   "outputs": [],
   "source": [
    "the_models = []\n",
    "for index,the_folder in enumerate(folders):\n",
    "    tmp = []\n",
    "    \n",
    "    the_path = save_dir + the_folder + \"/\"\n",
    "    files = get_filename(the_path)\n",
    "    files.sort(key=lambda x:int(x[8:-4]))\n",
    "    # print(files)\n",
    "    \n",
    "    for file_id, file_name in enumerate(files):\n",
    "        file_path = the_path + file_name\n",
    "        the_spn = read_model(file_path)\n",
    "        tmp.append( the_spn )\n",
    "        \n",
    "    the_models.append(tmp)"
   ]
  },
  {
   "cell_type": "code",
   "execution_count": 56,
   "id": "1535d9cd-6687-4a0a-92fe-a2c299c18f33",
   "metadata": {},
   "outputs": [],
   "source": [
    "models = the_models"
   ]
  },
  {
   "cell_type": "markdown",
   "id": "833281dd-0839-49bc-84ab-4f05a0f3d05a",
   "metadata": {},
   "source": [
    "## 模型评估"
   ]
  },
  {
   "cell_type": "code",
   "execution_count": 49,
   "id": "66a3e7f2-9da4-4301-bc47-caf37d6b52ca",
   "metadata": {},
   "outputs": [
    {
     "name": "stdout",
     "output_type": "stream",
     "text": [
      "0.6354260089686099\n",
      "0.6513278704410839\n",
      "0.6354260089686099\n",
      "0.6398567523720771\n",
      "CPU times: user 18.4 ms, sys: 2.1 ms, total: 20.5 ms\n",
      "Wall time: 19.4 ms\n"
     ]
    }
   ],
   "source": [
    "%%time\n",
    "\n",
    "s_accuracy = accuracy_score(y_test, y_pred)\n",
    "s_precision = precision_score(y_test, y_pred, average='weighted')\n",
    "s_recall = recall_score(y_test, y_pred, average='weighted')\n",
    "s_f1 = f1_score(y_test, y_pred, average='weighted')\n",
    "print(s_accuracy)\n",
    "print(s_precision)\n",
    "print(s_recall)\n",
    "print(s_f1)"
   ]
  },
  {
   "cell_type": "code",
   "execution_count": 50,
   "id": "fb05d14b-84f6-4127-87a4-002e9a01912c",
   "metadata": {},
   "outputs": [
    {
     "data": {
      "image/png": "[encoded data removed]",
      "text/plain": [
       "<Figure size 1080x360 with 1 Axes>"
      ]
     },
     "metadata": {
      "needs_background": "light"
     },
     "output_type": "display_data"
    }
   ],
   "source": [
    "plt.figure(figsize=(15,5))\n",
    "plt.plot(y_pred)\n",
    "plt.plot(y_test)\n",
    "plt.show()"
   ]
  },
  {
   "cell_type": "code",
   "execution_count": null,
   "id": "1222b93e-2ac4-4ee9-8597-413d500ea99b",
   "metadata": {},
   "outputs": [],
   "source": []
  }
 ],
 "metadata": {
  "kernelspec": {
   "display_name": "Python 3",
   "language": "python",
   "name": "python3"
  },
  "language_info": {
   "codemirror_mode": {
    "name": "ipython",
    "version": 3
   },
   "file_extension": ".py",
   "mimetype": "text/x-python",
   "name": "python",
   "nbconvert_exporter": "python",
   "pygments_lexer": "ipython3",
   "version": "3.8.10"
  }
 },
 "nbformat": 4,
 "nbformat_minor": 5
}
