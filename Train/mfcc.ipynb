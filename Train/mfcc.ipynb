{
 "cells": [
  {
   "cell_type": "code",
   "execution_count": 9,
   "id": "4c536cdf-f7c8-4970-9d40-81ddd16899b5",
   "metadata": {},
   "outputs": [],
   "source": [
    "import numpy as np\n",
    "import matplotlib.pyplot as plt"
   ]
  },
  {
   "cell_type": "code",
   "execution_count": 33,
   "id": "e2eb78f4-7d1b-42f2-b788-270b90437dc7",
   "metadata": {},
   "outputs": [],
   "source": [
    "data_dir = '../../dataset/Data_processed_2/'\n",
    "labels = [ 'down', 'go', 'left', 'no', 'off', 'on', 'right', 'stop', 'up', 'yes']\n",
    "labels_num = [0, 1, 2, 3, 4, 5, 6, 7, 8, 9 ]"
   ]
  },
  {
   "cell_type": "code",
   "execution_count": 13,
   "id": "b40130c3-d1ed-4d5f-a1a7-2f031080e3ea",
   "metadata": {},
   "outputs": [],
   "source": [
    "path = data_dir + '/' + 'down.npy'"
   ]
  },
  {
   "cell_type": "code",
   "execution_count": 14,
   "id": "ede51c38-56ec-4f74-8cb4-a2711e145a5c",
   "metadata": {},
   "outputs": [],
   "source": [
    "mfcc = np.load(path)"
   ]
  },
  {
   "cell_type": "code",
   "execution_count": 15,
   "id": "711c66fc-a530-44d9-919b-024972d238fc",
   "metadata": {},
   "outputs": [
    {
     "data": {
      "text/plain": [
       "(3817, 13, 51)"
      ]
     },
     "execution_count": 15,
     "metadata": {},
     "output_type": "execute_result"
    }
   ],
   "source": [
    "mfcc.shape"
   ]
  },
  {
   "cell_type": "code",
   "execution_count": 16,
   "id": "7d9108d2-8086-4592-aa43-714ba5c8b22b",
   "metadata": {},
   "outputs": [
    {
     "data": {
      "text/plain": [
       "(13, 51)"
      ]
     },
     "execution_count": 16,
     "metadata": {},
     "output_type": "execute_result"
    }
   ],
   "source": [
    "mfcc_0 = mfcc[0]\n",
    "mfcc_0.shape"
   ]
  },
  {
   "cell_type": "code",
   "execution_count": 17,
   "id": "c8a40b03-b298-470f-b233-e134b99cfcc2",
   "metadata": {},
   "outputs": [
    {
     "data": {
      "image/png": "[encoded data removed]",
      "text/plain": [
       "<Figure size 1080x360 with 1 Axes>"
      ]
     },
     "metadata": {
      "needs_background": "light"
     },
     "output_type": "display_data"
    }
   ],
   "source": [
    "plt.figure(figsize=(15,5))\n",
    "plt.imshow(mfcc_0, aspect='auto', origin='lower');"
   ]
  },
  {
   "cell_type": "code",
   "execution_count": 52,
   "id": "6db69aa0-8d3b-40bc-a5af-4a003268a05e",
   "metadata": {},
   "outputs": [],
   "source": [
    "mfcc_0 = mfcc_0.T"
   ]
  },
  {
   "cell_type": "code",
   "execution_count": 53,
   "id": "8f9f8001-22f8-4490-9adf-af7cd4f93895",
   "metadata": {},
   "outputs": [],
   "source": [
    "mfcc_1 = []\n",
    "for index, frame in zip(range(len(mfcc_0)), mfcc_0):\n",
    "    temp = np.append(frame, index)\n",
    "    mfcc_1.append(temp)\n",
    "mfcc_1 = np.array(mfcc_1)"
   ]
  },
  {
   "cell_type": "code",
   "execution_count": 54,
   "id": "dd99a9c0-362d-4e52-a2f3-cc66142e3631",
   "metadata": {},
   "outputs": [
    {
     "data": {
      "text/plain": [
       "(14,)"
      ]
     },
     "execution_count": 54,
     "metadata": {},
     "output_type": "execute_result"
    }
   ],
   "source": [
    "mfcc_1[0].shape"
   ]
  },
  {
   "cell_type": "code",
   "execution_count": 55,
   "id": "38fbf5d6-c047-44b6-b9ef-6ca3d4b9e3d7",
   "metadata": {},
   "outputs": [],
   "source": [
    "def process_data(mfcc, label):\n",
    "    mfcc_res = []\n",
    "    for index, frame in zip(range(len(mfcc)), mfcc):\n",
    "        temp = np.append(frame, [index,label])\n",
    "        mfcc_res.append(temp)\n",
    "    mfcc_res = np.array(mfcc_res)\n",
    "    return mfcc_res"
   ]
  },
  {
   "cell_type": "code",
   "execution_count": 56,
   "id": "10c8ce61-d64b-4f07-8463-caac483b854a",
   "metadata": {},
   "outputs": [],
   "source": [
    "data_dir = '../../dataset/Data_useful/'\n",
    "path = data_dir + '/' + 'on.npy'"
   ]
  },
  {
   "cell_type": "code",
   "execution_count": 57,
   "id": "16c69163-73d3-4412-93f1-b879c8555ae8",
   "metadata": {},
   "outputs": [],
   "source": [
    "mfcc = np.load(path)"
   ]
  },
  {
   "cell_type": "code",
   "execution_count": 58,
   "id": "035e42d2-404f-4d89-8729-082b5d1733e0",
   "metadata": {},
   "outputs": [
    {
     "data": {
      "text/plain": [
       "array([-981.61541748, -581.63623047, -406.33132935, -417.45333862,\n",
       "       -409.1491394 , -408.72271729, -410.22567749, -410.34661865,\n",
       "       -411.95019531, -408.41372681, -417.76596069, -412.80224609,\n",
       "       -421.22631836, -421.40014648, -411.47702026, -421.82833862,\n",
       "       -418.42715454, -410.29650879, -413.65466309, -410.93545532,\n",
       "       -420.0819397 , -421.1138916 , -415.67855835, -413.04296875,\n",
       "       -408.82949829, -422.23260498, -412.1932373 , -424.1083374 ,\n",
       "       -418.480896  , -414.77819824, -405.46582031, -412.48980713,\n",
       "       -397.34378052, -407.13796997, -416.21606445, -413.35791016,\n",
       "       -414.89138794, -408.7069397 , -414.11227417, -421.14367676,\n",
       "       -421.43115234, -417.09512329, -411.55511475, -416.50125122,\n",
       "       -410.92858887, -416.6517334 , -413.50976562, -417.87142944,\n",
       "       -422.25323486, -604.50665283, -981.61541748,    0.        ,\n",
       "          5.        ])"
      ]
     },
     "execution_count": 58,
     "metadata": {},
     "output_type": "execute_result"
    }
   ],
   "source": [
    "mfcc[0][0]"
   ]
  },
  {
   "cell_type": "code",
   "execution_count": null,
   "id": "4380c492-5371-4695-9a9c-af8bb50b68fb",
   "metadata": {},
   "outputs": [],
   "source": []
  }
 ],
 "metadata": {
  "kernelspec": {
   "display_name": "Python 3",
   "language": "python",
   "name": "python3"
  },
  "language_info": {
   "codemirror_mode": {
    "name": "ipython",
    "version": 3
   },
   "file_extension": ".py",
   "mimetype": "text/x-python",
   "name": "python",
   "nbconvert_exporter": "python",
   "pygments_lexer": "ipython3",
   "version": "3.8.10"
  }
 },
 "nbformat": 4,
 "nbformat_minor": 5
}
